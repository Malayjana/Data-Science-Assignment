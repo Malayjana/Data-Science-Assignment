{
 "cells": [
  {
   "cell_type": "code",
   "execution_count": 1,
   "id": "75abf338",
   "metadata": {},
   "outputs": [],
   "source": [
    "import numpy as np\n",
    "import pandas as pd\n",
    "import matplotlib.pyplot as plt\n",
    "import seaborn as sns"
   ]
  },
  {
   "cell_type": "code",
   "execution_count": 2,
   "id": "e1fdec6f",
   "metadata": {},
   "outputs": [
    {
     "data": {
      "text/html": [
       "<div>\n",
       "<style scoped>\n",
       "    .dataframe tbody tr th:only-of-type {\n",
       "        vertical-align: middle;\n",
       "    }\n",
       "\n",
       "    .dataframe tbody tr th {\n",
       "        vertical-align: top;\n",
       "    }\n",
       "\n",
       "    .dataframe thead th {\n",
       "        text-align: right;\n",
       "    }\n",
       "</style>\n",
       "<table border=\"1\" class=\"dataframe\">\n",
       "  <thead>\n",
       "    <tr style=\"text-align: right;\">\n",
       "      <th></th>\n",
       "      <th>Month</th>\n",
       "      <th>Passengers</th>\n",
       "    </tr>\n",
       "  </thead>\n",
       "  <tbody>\n",
       "    <tr>\n",
       "      <th>0</th>\n",
       "      <td>1995-01-01</td>\n",
       "      <td>112</td>\n",
       "    </tr>\n",
       "    <tr>\n",
       "      <th>1</th>\n",
       "      <td>1995-02-01</td>\n",
       "      <td>118</td>\n",
       "    </tr>\n",
       "    <tr>\n",
       "      <th>2</th>\n",
       "      <td>1995-03-01</td>\n",
       "      <td>132</td>\n",
       "    </tr>\n",
       "    <tr>\n",
       "      <th>3</th>\n",
       "      <td>1995-04-01</td>\n",
       "      <td>129</td>\n",
       "    </tr>\n",
       "    <tr>\n",
       "      <th>4</th>\n",
       "      <td>1995-05-01</td>\n",
       "      <td>121</td>\n",
       "    </tr>\n",
       "  </tbody>\n",
       "</table>\n",
       "</div>"
      ],
      "text/plain": [
       "       Month  Passengers\n",
       "0 1995-01-01         112\n",
       "1 1995-02-01         118\n",
       "2 1995-03-01         132\n",
       "3 1995-04-01         129\n",
       "4 1995-05-01         121"
      ]
     },
     "execution_count": 2,
     "metadata": {},
     "output_type": "execute_result"
    }
   ],
   "source": [
    "airlines=pd.read_excel('D:\\\\excler\\\\Assignment\\\\Forecasting\\\\Airlines+Data.xlsx')\n",
    "airlines.head()"
   ]
  },
  {
   "cell_type": "code",
   "execution_count": 3,
   "id": "81450bb1",
   "metadata": {},
   "outputs": [],
   "source": [
    "month=['Jan','Feb','Mar','Apr','May','Jun','Jul','Aug','Sep','Oct','Nov','Dec']\n",
    "month=pd.DataFrame(month)\n",
    "months=pd.DataFrame(np.tile(month,(8,1)))\n",
    "Airlines=pd.concat([airlines,months],axis=1)\n",
    "Airlines.columns=['Month','Passengers','months']"
   ]
  },
  {
   "cell_type": "code",
   "execution_count": 4,
   "id": "49a8f704",
   "metadata": {},
   "outputs": [],
   "source": [
    "month_dummies=pd.get_dummies(Airlines['months'])\n",
    "Airlines=pd.concat([Airlines,month_dummies],axis=1)\n",
    "Airlines['t']=np.arange(1,97)\n",
    "Airlines['t_sq']=Airlines['t']*Airlines['t']\n",
    "Airlines['log_passengers']=np.log(Airlines['Passengers'])"
   ]
  },
  {
   "cell_type": "code",
   "execution_count": 5,
   "id": "0e9139ab",
   "metadata": {},
   "outputs": [
    {
     "data": {
      "image/png": "[encoded data removed]",
      "text/plain": [
       "<Figure size 432x288 with 1 Axes>"
      ]
     },
     "metadata": {
      "needs_background": "light"
     },
     "output_type": "display_data"
    }
   ],
   "source": [
    "Train=Airlines[0:85]\n",
    "Test=Airlines[85:]\n",
    "plt.plot(Airlines.iloc[:,1])\n",
    "Test.set_index(np.arange(1,12),inplace=True)"
   ]
  },
  {
   "cell_type": "code",
   "execution_count": 6,
   "id": "0a45d431",
   "metadata": {},
   "outputs": [
    {
     "data": {
      "text/plain": [
       "55.674170015416216"
      ]
     },
     "execution_count": 6,
     "metadata": {},
     "output_type": "execute_result"
    }
   ],
   "source": [
    "import statsmodels.formula.api as smf\n",
    "lin_model=smf.ols('Passengers~t',data=Train).fit()\n",
    "predict_lin=lin_model.predict(Test['t'])\n",
    "error_lin=Test['Passengers']-predict_lin\n",
    "rmse_lin=np.sqrt(np.mean(error_lin**2))\n",
    "rmse_lin"
   ]
  },
  {
   "cell_type": "code",
   "execution_count": 7,
   "id": "d66ce700",
   "metadata": {},
   "outputs": [
    {
     "data": {
      "text/plain": [
       "329.69175113922927"
      ]
     },
     "execution_count": 7,
     "metadata": {},
     "output_type": "execute_result"
    }
   ],
   "source": [
    "exp_model=smf.ols('log_passengers~t',data=Train).fit()\n",
    "predict_exp=exp_model.predict(Test['t'])\n",
    "error_exp=Test['Passengers']-predict_exp\n",
    "rmse_exp=np.sqrt(np.mean(error_exp**2))\n",
    "rmse_exp"
   ]
  },
  {
   "cell_type": "code",
   "execution_count": 8,
   "id": "37f0a4e3",
   "metadata": {},
   "outputs": [
    {
     "data": {
      "text/plain": [
       "50.65954577650039"
      ]
     },
     "execution_count": 8,
     "metadata": {},
     "output_type": "execute_result"
    }
   ],
   "source": [
    "quad_model=smf.ols('Passengers~t+t_sq',data=Train).fit()\n",
    "predict_quad=quad_model.predict(Test[['t','t_sq']])\n",
    "error_quad=Test['Passengers']-predict_quad\n",
    "rmse_quad=np.sqrt(np.mean(error_quad**2))\n",
    "rmse_quad"
   ]
  },
  {
   "cell_type": "code",
   "execution_count": 9,
   "id": "bbffcb11",
   "metadata": {},
   "outputs": [
    {
     "data": {
      "text/plain": [
       "134.34479910432762"
      ]
     },
     "execution_count": 9,
     "metadata": {},
     "output_type": "execute_result"
    }
   ],
   "source": [
    "add_sea_model=smf.ols('Passengers~Jan+Feb+Mar+Apr+May+Jun+Jul+Aug+Sep+Oct+Nov',data=Train).fit()\n",
    "predict_add_sea=add_sea_model.predict(Test[['Jan','Feb','Mar','Apr','May','Jun','Jul','Aug','Sep','Oct','Nov']])\n",
    "error_add_sea=Test['Passengers']-predict_add_sea\n",
    "rmse_add_sea=np.sqrt(np.mean(error_add_sea**2))\n",
    "rmse_add_sea"
   ]
  },
  {
   "cell_type": "code",
   "execution_count": 10,
   "id": "8511ce74",
   "metadata": {},
   "outputs": [
    {
     "data": {
      "text/plain": [
       "27.4127149612075"
      ]
     },
     "execution_count": 10,
     "metadata": {},
     "output_type": "execute_result"
    }
   ],
   "source": [
    "add_sea_quad_model=smf.ols('Passengers~Jan+Feb+Mar+Apr+May+Jun+Jul+Aug+Sep+Oct+Nov+t+t_sq',data=Train).fit()\n",
    "predict_add_sea_quad=add_sea_quad_model.predict(Test[['Jan','Feb','Mar','Apr','May','Jun','Jul','Aug','Sep','Oct','Nov',\n",
    "                                                      't','t_sq']])\n",
    "error_add_sea_quad=Test['Passengers']-predict_add_sea_quad\n",
    "rmse_add_sea_quad=np.sqrt(np.mean(error_add_sea_quad**2))\n",
    "rmse_add_sea_quad"
   ]
  },
  {
   "cell_type": "code",
   "execution_count": 11,
   "id": "f0562ba5",
   "metadata": {},
   "outputs": [
    {
     "data": {
      "text/plain": [
       "330.1926780196679"
      ]
     },
     "execution_count": 11,
     "metadata": {},
     "output_type": "execute_result"
    }
   ],
   "source": [
    "mul_sea_model=smf.ols('log_passengers~Jan+Feb+Mar+Apr+May+Jun+Jul+Aug+Sep+Oct+Nov',data=Train).fit()\n",
    "predict_mul_sea=mul_sea_model.predict(Test[['Jan','Feb','Mar','Apr','May','Jun','Jul','Aug','Sep','Oct','Nov']])\n",
    "error_mul_sea=Test['Passengers']-predict_mul_sea\n",
    "rmse_mul_sea=np.sqrt(np.mean(error_mul_sea**2))\n",
    "rmse_mul_sea"
   ]
  },
  {
   "cell_type": "code",
   "execution_count": 12,
   "id": "bc464a58",
   "metadata": {},
   "outputs": [
    {
     "data": {
      "text/plain": [
       "329.66032649959925"
      ]
     },
     "execution_count": 12,
     "metadata": {},
     "output_type": "execute_result"
    }
   ],
   "source": [
    "mul_add_sea_model=smf.ols('log_passengers~t+Jan+Feb+Mar+Apr+May+Jun+Jul+Aug+Sep+Oct+Nov',data=Train).fit()\n",
    "predict_mul_add_sea=mul_add_sea_model.predict(Test[['t','Jan','Feb','Mar','Apr','May','Jun','Jul','Aug','Sep','Oct','Nov']])\n",
    "error_mul_add_sea=Test['Passengers']-predict_mul_add_sea\n",
    "rmse_mul_add_sea=np.sqrt(np.mean(error_mul_add_sea**2))\n",
    "rmse_mul_add_sea"
   ]
  },
  {
   "cell_type": "code",
   "execution_count": 13,
   "id": "b262628c",
   "metadata": {},
   "outputs": [
    {
     "data": {
      "text/html": [
       "<div>\n",
       "<style scoped>\n",
       "    .dataframe tbody tr th:only-of-type {\n",
       "        vertical-align: middle;\n",
       "    }\n",
       "\n",
       "    .dataframe tbody tr th {\n",
       "        vertical-align: top;\n",
       "    }\n",
       "\n",
       "    .dataframe thead th {\n",
       "        text-align: right;\n",
       "    }\n",
       "</style>\n",
       "<table border=\"1\" class=\"dataframe\">\n",
       "  <thead>\n",
       "    <tr style=\"text-align: right;\">\n",
       "      <th></th>\n",
       "      <th>model</th>\n",
       "      <th>rmse_val</th>\n",
       "    </tr>\n",
       "  </thead>\n",
       "  <tbody>\n",
       "    <tr>\n",
       "      <th>0</th>\n",
       "      <td>lin_model</td>\n",
       "      <td>55.674170</td>\n",
       "    </tr>\n",
       "    <tr>\n",
       "      <th>1</th>\n",
       "      <td>exp_model</td>\n",
       "      <td>329.691751</td>\n",
       "    </tr>\n",
       "    <tr>\n",
       "      <th>2</th>\n",
       "      <td>quad_model</td>\n",
       "      <td>50.659546</td>\n",
       "    </tr>\n",
       "    <tr>\n",
       "      <th>3</th>\n",
       "      <td>add_sea</td>\n",
       "      <td>134.344799</td>\n",
       "    </tr>\n",
       "    <tr>\n",
       "      <th>4</th>\n",
       "      <td>add_sea_quad</td>\n",
       "      <td>27.412715</td>\n",
       "    </tr>\n",
       "    <tr>\n",
       "      <th>5</th>\n",
       "      <td>mul_sea</td>\n",
       "      <td>330.192678</td>\n",
       "    </tr>\n",
       "    <tr>\n",
       "      <th>6</th>\n",
       "      <td>mul_add_sea</td>\n",
       "      <td>329.660326</td>\n",
       "    </tr>\n",
       "  </tbody>\n",
       "</table>\n",
       "</div>"
      ],
      "text/plain": [
       "          model    rmse_val\n",
       "0     lin_model   55.674170\n",
       "1     exp_model  329.691751\n",
       "2    quad_model   50.659546\n",
       "3       add_sea  134.344799\n",
       "4  add_sea_quad   27.412715\n",
       "5       mul_sea  330.192678\n",
       "6   mul_add_sea  329.660326"
      ]
     },
     "execution_count": 13,
     "metadata": {},
     "output_type": "execute_result"
    }
   ],
   "source": [
    "data={'model':['lin_model','exp_model','quad_model','add_sea','add_sea_quad','mul_sea','mul_add_sea'],\n",
    "      'rmse_val':[rmse_lin,rmse_exp,rmse_quad,rmse_add_sea,rmse_add_sea_quad,rmse_mul_sea,rmse_mul_add_sea]}\n",
    "rmse_table=pd.DataFrame(data)\n",
    "rmse_table"
   ]
  },
  {
   "cell_type": "code",
   "execution_count": null,
   "id": "2273b73a",
   "metadata": {},
   "outputs": [],
   "source": []
  }
 ],
 "metadata": {
  "kernelspec": {
   "display_name": "Python 3 (ipykernel)",
   "language": "python",
   "name": "python3"
  },
  "language_info": {
   "codemirror_mode": {
    "name": "ipython",
    "version": 3
   },
   "file_extension": ".py",
   "mimetype": "text/x-python",
   "name": "python",
   "nbconvert_exporter": "python",
   "pygments_lexer": "ipython3",
   "version": "3.9.7"
  }
 },
 "nbformat": 4,
 "nbformat_minor": 5
}
