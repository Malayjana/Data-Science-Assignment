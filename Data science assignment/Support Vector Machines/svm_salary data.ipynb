{
  "cells": [
    {
      "cell_type": "code",
      "execution_count": 2,
      "id": "d93b44ab",
      "metadata": {
        "id": "d93b44ab"
      },
      "outputs": [],
      "source": [
        "import pandas as pd\n",
        "import numpy as np\n",
        "from sklearn.feature_extraction.text import CountVectorizer, TfidfVectorizer\n",
        "from sklearn.preprocessing import StandardScaler\n",
        "\n",
        "from sklearn import svm\n",
        "from sklearn.svm import SVC\n",
        "from sklearn.model_selection import GridSearchCV\n",
        "from sklearn.metrics import classification_report\n",
        "\n",
        "\n",
        "from sklearn.metrics import accuracy_score, confusion_matrix\n",
        "from sklearn.model_selection import train_test_split, cross_val_score\n"
      ]
    },
    {
      "cell_type": "code",
      "execution_count": 3,
      "id": "b6836c38",
      "metadata": {
        "id": "b6836c38"
      },
      "outputs": [],
      "source": [
        "sal_train = pd.read_csv('/content/SalaryData_Train.csv')\n",
        "sal_test = pd.read_csv('/content/SalaryData_Test.csv')\n",
        "sal_train.columns\n",
        "sal_test.columns\n",
        "string_col=['workclass','education','maritalstatus','occupation','relationship','race','sex','native']"
      ]
    },
    {
      "cell_type": "code",
      "execution_count": 4,
      "id": "6b866c31",
      "metadata": {
        "id": "6b866c31"
      },
      "outputs": [],
      "source": [
        "from sklearn import preprocessing\n",
        "label_encoder=preprocessing.LabelEncoder()\n",
        "for i in string_col:\n",
        "    sal_train[i]=label_encoder.fit_transform(sal_train[i])\n",
        "    sal_test[i]=label_encoder.fit_transform(sal_test[i])"
      ]
    },
    {
      "cell_type": "code",
      "execution_count": 5,
      "id": "86620f5c",
      "metadata": {
        "id": "86620f5c"
      },
      "outputs": [],
      "source": [
        "train_x=sal_train.iloc[0:500,0:13]\n",
        "train_y=sal_train.iloc[0:500,13]\n",
        "test_x=sal_test.iloc[0:300,0:13]\n",
        "test_y=sal_test.iloc[0:300,13]"
      ]
    },
    {
      "cell_type": "code",
      "execution_count": 6,
      "id": "427eb044",
      "metadata": {
        "colab": {
          "base_uri": "https://localhost:8080/"
        },
        "id": "427eb044",
        "outputId": "97260a68-4e65-4f16-c14c-ff62c7a1bc5b"
      },
      "outputs": [
        {
          "output_type": "execute_result",
          "data": {
            "text/plain": [
              "0.8166666666666667"
            ]
          },
          "metadata": {},
          "execution_count": 6
        }
      ],
      "source": [
        "model_linear=SVC(kernel='linear')\n",
        "model_linear.fit(train_x,train_y)\n",
        "train_pred_lin=model_linear.predict(train_x)\n",
        "test_pred_lin=model_linear.predict(test_x)\n",
        "train_lin_acc=np.mean(train_pred_lin==train_y)\n",
        "test_lin_acc=np.mean(test_pred_lin==test_y)\n",
        "train_lin_acc\n",
        "test_lin_acc"
      ]
    },
    {
      "cell_type": "code",
      "execution_count": 7,
      "id": "da72877f",
      "metadata": {
        "colab": {
          "base_uri": "https://localhost:8080/"
        },
        "id": "da72877f",
        "outputId": "4b0d03d8-ab80-4d95-b7f1-85fe7ba3c173"
      },
      "outputs": [
        {
          "output_type": "execute_result",
          "data": {
            "text/plain": [
              "0.8033333333333333"
            ]
          },
          "metadata": {},
          "execution_count": 7
        }
      ],
      "source": [
        "model_rbf=SVC(kernel='rbf')\n",
        "model_rbf.fit(train_x,train_y)\n",
        "train_pred_rbf=model_rbf.predict(train_x)\n",
        "test_pred_rbf=model_rbf.predict(test_x)\n",
        "train_rbf_acc=np.mean(train_pred_rbf==train_y)\n",
        "test_rbf_acc=np.mean(test_pred_rbf==test_y)\n",
        "train_rbf_acc\n",
        "test_rbf_acc"
      ]
    },
    {
      "cell_type": "code",
      "source": [
        ""
      ],
      "metadata": {
        "id": "LtT5zo70aigZ"
      },
      "id": "LtT5zo70aigZ",
      "execution_count": null,
      "outputs": []
    }
  ],
  "metadata": {
    "kernelspec": {
      "display_name": "Python 3 (ipykernel)",
      "language": "python",
      "name": "python3"
    },
    "language_info": {
      "codemirror_mode": {
        "name": "ipython",
        "version": 3
      },
      "file_extension": ".py",
      "mimetype": "text/x-python",
      "name": "python",
      "nbconvert_exporter": "python",
      "pygments_lexer": "ipython3",
      "version": "3.9.7"
    },
    "colab": {
      "name": "sal_svmassim.ipynb",
      "provenance": []
    }
  },
  "nbformat": 4,
  "nbformat_minor": 5
}